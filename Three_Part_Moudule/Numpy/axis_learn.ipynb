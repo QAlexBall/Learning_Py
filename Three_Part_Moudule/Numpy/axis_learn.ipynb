{
 "cells": [
  {
   "cell_type": "code",
   "execution_count": 17,
   "metadata": {},
   "outputs": [
    {
     "data": {
      "text/plain": [
       "array([[1, 2, 3],\n",
       "       [4, 5, 6],\n",
       "       [1, 3, 5],\n",
       "       [2, 4, 6]])"
      ]
     },
     "execution_count": 17,
     "metadata": {},
     "output_type": "execute_result"
    }
   ],
   "source": [
    "import numpy as np\n",
    "np_data = np.array([[1,2,3],[4,5,6],[1,3,5],[2,4,6]])\n",
    "np_data"
   ]
  },
  {
   "cell_type": "code",
   "execution_count": 18,
   "metadata": {},
   "outputs": [
    {
     "data": {
      "text/plain": [
       "array([ 8, 14, 20])"
      ]
     },
     "execution_count": 18,
     "metadata": {},
     "output_type": "execute_result"
    }
   ],
   "source": [
    "np.sum(np_data, axis=0)"
   ]
  },
  {
   "cell_type": "code",
   "execution_count": 19,
   "metadata": {},
   "outputs": [
    {
     "data": {
      "text/plain": [
       "array([ 6, 15,  9, 12])"
      ]
     },
     "execution_count": 19,
     "metadata": {},
     "output_type": "execute_result"
    }
   ],
   "source": [
    "np.sum(np_data, axis=1)"
   ]
  },
  {
   "cell_type": "code",
   "execution_count": 20,
   "metadata": {},
   "outputs": [
    {
     "data": {
      "text/plain": [
       "array([1, 2, 3])"
      ]
     },
     "execution_count": 20,
     "metadata": {},
     "output_type": "execute_result"
    }
   ],
   "source": [
    "np.min(np_data, axis=0)"
   ]
  },
  {
   "cell_type": "code",
   "execution_count": 38,
   "metadata": {},
   "outputs": [
    {
     "data": {
      "text/plain": [
       "array([[[[5, 4, 0, 0],\n",
       "         [3, 5, 0, 5],\n",
       "         [2, 1, 2, 3]],\n",
       "\n",
       "        [[2, 2, 1, 4],\n",
       "         [3, 2, 2, 4],\n",
       "         [0, 3, 3, 5]]],\n",
       "\n",
       "\n",
       "       [[[0, 5, 4, 2],\n",
       "         [4, 5, 1, 0],\n",
       "         [2, 0, 5, 3]],\n",
       "\n",
       "        [[0, 1, 4, 2],\n",
       "         [4, 1, 0, 3],\n",
       "         [2, 1, 3, 5]]],\n",
       "\n",
       "\n",
       "       [[[5, 1, 1, 3],\n",
       "         [1, 3, 1, 5],\n",
       "         [1, 5, 1, 5]],\n",
       "\n",
       "        [[5, 3, 1, 2],\n",
       "         [3, 3, 0, 1],\n",
       "         [0, 1, 0, 4]]],\n",
       "\n",
       "\n",
       "       [[[2, 3, 0, 2],\n",
       "         [0, 2, 5, 0],\n",
       "         [1, 4, 3, 5]],\n",
       "\n",
       "        [[5, 3, 1, 1],\n",
       "         [5, 0, 5, 4],\n",
       "         [3, 0, 1, 5]]]])"
      ]
     },
     "execution_count": 38,
     "metadata": {},
     "output_type": "execute_result"
    }
   ],
   "source": [
    "np_data = np.random.randint(0, 6, [4,2,3,4])\n",
    "np_data"
   ]
  },
  {
   "cell_type": "code",
   "execution_count": 48,
   "metadata": {},
   "outputs": [
    {
     "data": {
      "text/plain": [
       "array([[[ 9, 13,  8],\n",
       "        [ 9, 11, 11]],\n",
       "\n",
       "       [[11, 10, 10],\n",
       "        [ 7,  8, 11]],\n",
       "\n",
       "       [[10, 10, 12],\n",
       "        [11,  7,  5]],\n",
       "\n",
       "       [[ 7,  7, 13],\n",
       "        [10, 14,  9]]])"
      ]
     },
     "execution_count": 48,
     "metadata": {},
     "output_type": "execute_result"
    }
   ],
   "source": [
    "np_data.sum(axis=3)"
   ]
  },
  {
   "cell_type": "code",
   "execution_count": 31,
   "metadata": {},
   "outputs": [
    {
     "data": {
      "text/plain": [
       "array([[[1, 2, 3],\n",
       "        [2, 3, 4]],\n",
       "\n",
       "       [[3, 4, 5],\n",
       "        [6, 7, 8]]])"
      ]
     },
     "execution_count": 31,
     "metadata": {},
     "output_type": "execute_result"
    }
   ],
   "source": [
    "np_data = np.array(\n",
    "    [\n",
    "        [\n",
    "            [1, 2, 3], \n",
    "            [2, 3, 4]\n",
    "        ],\n",
    "        [\n",
    "            [3, 4, 5],\n",
    "            [6, 7, 8]\n",
    "        ]\n",
    "    ]\n",
    "    )\n",
    "np_data"
   ]
  },
  {
   "cell_type": "code",
   "execution_count": 32,
   "metadata": {},
   "outputs": [
    {
     "data": {
      "text/plain": [
       "array([[ 4,  6,  8],\n",
       "       [ 8, 10, 12]])"
      ]
     },
     "execution_count": 32,
     "metadata": {},
     "output_type": "execute_result"
    }
   ],
   "source": [
    "np_data.sum(axis=0)"
   ]
  },
  {
   "cell_type": "code",
   "execution_count": 33,
   "metadata": {},
   "outputs": [
    {
     "data": {
      "text/plain": [
       "array([[ 3,  5,  7],\n",
       "       [ 9, 11, 13]])"
      ]
     },
     "execution_count": 33,
     "metadata": {},
     "output_type": "execute_result"
    }
   ],
   "source": [
    "np_data.sum(axis=1)"
   ]
  },
  {
   "cell_type": "code",
   "execution_count": 34,
   "metadata": {},
   "outputs": [
    {
     "data": {
      "text/plain": [
       "array([[ 6,  9],\n",
       "       [12, 21]])"
      ]
     },
     "execution_count": 34,
     "metadata": {},
     "output_type": "execute_result"
    }
   ],
   "source": [
    "np_data.sum(axis=2)"
   ]
  },
  {
   "cell_type": "code",
   "execution_count": 36,
   "metadata": {},
   "outputs": [
    {
     "data": {
      "text/plain": [
       "array([[ 6,  9],\n",
       "       [12, 21]])"
      ]
     },
     "execution_count": 36,
     "metadata": {},
     "output_type": "execute_result"
    }
   ],
   "source": [
    "np_data.sum(axis=-1)"
   ]
  }
 ],
 "metadata": {
  "kernelspec": {
   "display_name": "Python 3",
   "language": "python",
   "name": "python3"
  },
  "language_info": {
   "codemirror_mode": {
    "name": "ipython",
    "version": 3
   },
   "file_extension": ".py",
   "mimetype": "text/x-python",
   "name": "python",
   "nbconvert_exporter": "python",
   "pygments_lexer": "ipython3",
   "version": "3.7.3"
  }
 },
 "nbformat": 4,
 "nbformat_minor": 2
}
