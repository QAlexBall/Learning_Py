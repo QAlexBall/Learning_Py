{
 "cells": [
  {
   "cell_type": "markdown",
   "metadata": {},
   "source": [
    "# 转移学习的两个主要场景\n",
    "* 微调Convnet： 使用与训练的网络（如在imagenet 1000上训练而来的网络）来初始化自己的网络，而不是随机初始化。其他训练步骤不变。\n",
    "* 将Convnet堪称固定的特征提取器： 首先固定ConvNet出来最后的全连接层外的所有其他层。\n",
    "  最后的全连接层被替换称一个新的随机初始化的层，只有这个新的称会被训练【只有这层参数会在反向传播时被更新】"
   ]
  },
  {
   "cell_type": "code",
   "execution_count": 2,
   "metadata": {},
   "outputs": [],
   "source": [
    "from __future__ import print_function, division\n",
    "\n",
    "import torch\n",
    "import torch.nn as nn\n",
    "import torch.optim as optim\n",
    "from torch.optim import lr_scheduler\n",
    "import numpy as np\n",
    "import torchvision\n",
    "from torchvision import datasets, models, transforms\n",
    "import matplotlib.pyplot as plt\n",
    "import time \n",
    "import os\n",
    "import copy\n",
    "\n",
    "plt.ion() # interactive mode 互动模式"
   ]
  },
  {
   "cell_type": "code",
   "execution_count": null,
   "metadata": {},
   "outputs": [],
   "source": [
    "# load dataset\n"
   ]
  }
 ],
 "metadata": {
  "kernelspec": {
   "display_name": "Python 3",
   "language": "python",
   "name": "python3"
  },
  "language_info": {
   "codemirror_mode": {
    "name": "ipython",
    "version": 3
   },
   "file_extension": ".py",
   "mimetype": "text/x-python",
   "name": "python",
   "nbconvert_exporter": "python",
   "pygments_lexer": "ipython3",
   "version": "3.7.3"
  }
 },
 "nbformat": 4,
 "nbformat_minor": 2
}
