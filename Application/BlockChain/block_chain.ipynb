{
 "cells": [
  {
   "cell_type": "code",
   "execution_count": 105,
   "metadata": {},
   "outputs": [],
   "source": [
    "import copy\n",
    "import datetime\n",
    "import hashlib"
   ]
  },
  {
   "cell_type": "code",
   "execution_count": 116,
   "metadata": {},
   "outputs": [],
   "source": [
    "# Define block chain\n",
    "\n",
    "class Chain():\n",
    "    def __init__(self): \n",
    "        self.blocks = [self.get_genesis_block()]\n",
    "    \n",
    "    def __eq__(self, other):\n",
    "        if isinstance(other, self.__class__):\n",
    "            return self.__dict__ == other.__dict__\n",
    "        else:\n",
    "            return False\n",
    "    \n",
    "    def get_genesis_block(self): # genesis block\n",
    "        return Block(\n",
    "            index=0,\n",
    "            timestamp=datetime.datetime.utcnow(),\n",
    "            data='Genesis',\n",
    "            previous_hash='arbitraray'\n",
    "        )\n",
    "    \n",
    "    def add_block(self, data):\n",
    "        self.blocks.append(Block(\n",
    "            index=len(self.blocks),\n",
    "            timestamp=datetime.datetime.utcnow(),\n",
    "            data=data,\n",
    "            previous_hash=self.blocks[len(self.blocks) - 1].hash\n",
    "        ))\n",
    "        \n",
    "    def get_chain_size(self):\n",
    "        return len(self.blocks) - 1\n",
    "    \n",
    "    def verify(self, verbose=True):\n",
    "        flag = True\n",
    "        for i in range(1, len(self.blocks)):\n",
    "            if not self.blocks[i].verify():\n",
    "                flag = False\n",
    "                if verbose:\n",
    "                    print(f'Wrong data type(s) at block {i}.')\n",
    "            if self.blocks[i].index != i:\n",
    "                flag = False\n",
    "                if verbose:\n",
    "                    print(f'Wrong block index at block {i}.')\n",
    "            if self.blocks[i - 1].hash != self.blocks[i].previous_hash:\n",
    "                flag = False\n",
    "                if verbose:\n",
    "                    print(f'Wrong block previous hash at block {i}.')\n",
    "            if self.blocks[i].hash != self.blocks[i].hashing():\n",
    "                flag = False\n",
    "                if verbose:\n",
    "                    print(f'Wrong hash at block {i}.')\n",
    "            if self.blocks[i - 1].timestamp >= self.blocks[i].timestamp:\n",
    "                flag = False\n",
    "                if verbose:\n",
    "                    print(f'Backdating at block {i}.')\n",
    "        return flag\n",
    "        \n",
    "    def fork(self, head='latest'):\n",
    "        if head in ['latest', 'whole', 'all']:\n",
    "            return copy.deepcopy(self)\n",
    "        else:\n",
    "            c = copy.deepcopy(self)\n",
    "            c.blocks = c.blocks[0 : head + 1]\n",
    "            return c\n",
    "    \n",
    "    def get_root(self, chain_2):\n",
    "        min_chain_size = min(self.get_chain_size(), chain_2.get_chain_size())\n",
    "        for i in range(1, min_chain_size + 1):\n",
    "            if self.blocks[i] != chain_2.blocks[i]:\n",
    "                return self.fork(i - 1)\n",
    "        return self.fork(min_chain_size)"
   ]
  },
  {
   "cell_type": "code",
   "execution_count": 117,
   "metadata": {},
   "outputs": [],
   "source": [
    "class Block():\n",
    "    def __init__(self, index, timestamp, data, previous_hash):\n",
    "        self.index = index\n",
    "        self.timestamp = timestamp\n",
    "        self.data = data\n",
    "        self.previous_hash = previous_hash\n",
    "        self.hash = self.hashing()\n",
    "    \n",
    "    def __eq__(self, other):\n",
    "        if isinstance(other, self.__class__):\n",
    "            return self.__dict__ == other.__dict__\n",
    "        else:\n",
    "            return False\n",
    "    \n",
    "    def hashing(self):\n",
    "        key = hashlib.sha256()\n",
    "        key.update(str(self.index).encode('utf-8'))\n",
    "        key.update(str(self.timestamp).encode('utf-8'))\n",
    "        key.update(str(self.data).encode('utf-8'))\n",
    "        key.update(str(self.previous_hash).encode('utf-8'))\n",
    "        return key.hexdigest()\n",
    "    \n",
    "    def verify(self):\n",
    "        instances = [self.index, self.timestamp, self.previous_hash, self.hash]\n",
    "        types = [int, datetime.datetime, str, str]\n",
    "        if sum(map(lambda inst_, type_: isinstance(inst_, type_), instances, types)) == len(instances):\n",
    "            return True\n",
    "        else:\n",
    "            return False"
   ]
  },
  {
   "cell_type": "code",
   "execution_count": 118,
   "metadata": {},
   "outputs": [],
   "source": [
    "c = Chain()\n",
    "for i in range(1, 21):\n",
    "    c.add_block(f'This is block {i} of my first chain.')"
   ]
  },
  {
   "cell_type": "code",
   "execution_count": 119,
   "metadata": {},
   "outputs": [
    {
     "name": "stdout",
     "output_type": "stream",
     "text": [
      "2019-11-03 16:08:45.904016\n",
      "This is block 3 of my first chain.\n",
      "68a7d1c2921327dccd7017b76320e2c9e1dde625c0c0e646536ea0da30941d9f\n",
      "6b35d43d27f3ee5363c817a413d2f90dc6e20234927c291952f48366b34ef29a\n",
      "6b35d43d27f3ee5363c817a413d2f90dc6e20234927c291952f48366b34ef29a\n"
     ]
    }
   ],
   "source": [
    "print(c.blocks[3].timestamp)\n",
    "print(c.blocks[3].data)\n",
    "print(c.blocks[3].hash)\n",
    "print(c.blocks[2].hash)\n",
    "print(c.blocks[3].previous_hash)"
   ]
  },
  {
   "cell_type": "code",
   "execution_count": 120,
   "metadata": {},
   "outputs": [
    {
     "name": "stdout",
     "output_type": "stream",
     "text": [
      "20\n",
      "True\n"
     ]
    }
   ],
   "source": [
    "print(c.get_chain_size())\n",
    "print(c.verify())"
   ]
  },
  {
   "cell_type": "code",
   "execution_count": 121,
   "metadata": {},
   "outputs": [
    {
     "name": "stdout",
     "output_type": "stream",
     "text": [
      "True\n"
     ]
    }
   ],
   "source": [
    "c_forked = c.fork('latest')\n",
    "print(c == c_forked)"
   ]
  },
  {
   "cell_type": "code",
   "execution_count": 122,
   "metadata": {},
   "outputs": [
    {
     "name": "stdout",
     "output_type": "stream",
     "text": [
      "20 21\n"
     ]
    }
   ],
   "source": [
    "c_forked.add_block('New block for forked chain!')\n",
    "print(c.get_chain_size(), c_forked.get_chain_size())"
   ]
  },
  {
   "cell_type": "code",
   "execution_count": 123,
   "metadata": {},
   "outputs": [
    {
     "name": "stdout",
     "output_type": "stream",
     "text": [
      "Wrong block index at block 9.\n",
      "Wrong hash at block 9.\n"
     ]
    },
    {
     "data": {
      "text/plain": [
       "False"
      ]
     },
     "execution_count": 123,
     "metadata": {},
     "output_type": "execute_result"
    }
   ],
   "source": [
    "c_forked = c.fork('latest')\n",
    "c_forked.blocks[9].index = -9\n",
    "c_forked.verify()"
   ]
  },
  {
   "cell_type": "code",
   "execution_count": 124,
   "metadata": {},
   "outputs": [
    {
     "name": "stdout",
     "output_type": "stream",
     "text": [
      "Wrong hash at block 16.\n",
      "Backdating at block 16.\n"
     ]
    },
    {
     "data": {
      "text/plain": [
       "False"
      ]
     },
     "execution_count": 124,
     "metadata": {},
     "output_type": "execute_result"
    }
   ],
   "source": [
    "c_forked = c.fork('latest')\n",
    "c_forked.blocks[16].timestamp = datetime.datetime(2000, 1, 1, 0, 0, 0, 0)\n",
    "c_forked.verify()"
   ]
  }
 ],
 "metadata": {
  "kernelspec": {
   "display_name": "Python 3",
   "language": "python",
   "name": "python3"
  },
  "language_info": {
   "codemirror_mode": {
    "name": "ipython",
    "version": 3
   },
   "file_extension": ".py",
   "mimetype": "text/x-python",
   "name": "python",
   "nbconvert_exporter": "python",
   "pygments_lexer": "ipython3",
   "version": "3.7.3"
  }
 },
 "nbformat": 4,
 "nbformat_minor": 2
}
